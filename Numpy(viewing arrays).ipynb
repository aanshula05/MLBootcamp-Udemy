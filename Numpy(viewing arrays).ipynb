{
 "cells": [
  {
   "cell_type": "markdown",
   "id": "65daefbc",
   "metadata": {},
   "source": [
    "# Viewing arrays & matrices"
   ]
  },
  {
   "cell_type": "code",
   "execution_count": 1,
   "id": "4e4e5764",
   "metadata": {},
   "outputs": [],
   "source": [
    "import numpy as np"
   ]
  },
  {
   "cell_type": "code",
   "execution_count": 4,
   "id": "ef67522d",
   "metadata": {},
   "outputs": [],
   "source": [
    "a1 = np.random.randint(0,10, size=(2,3))"
   ]
  },
  {
   "cell_type": "code",
   "execution_count": 5,
   "id": "ed8647fd",
   "metadata": {},
   "outputs": [
    {
     "data": {
      "text/plain": [
       "array([[4, 2, 2],\n",
       "       [1, 6, 1]])"
      ]
     },
     "execution_count": 5,
     "metadata": {},
     "output_type": "execute_result"
    }
   ],
   "source": [
    "a1"
   ]
  },
  {
   "cell_type": "code",
   "execution_count": 6,
   "id": "aaf264c0",
   "metadata": {},
   "outputs": [
    {
     "data": {
      "text/plain": [
       "array([1, 2, 4, 6])"
      ]
     },
     "execution_count": 6,
     "metadata": {},
     "output_type": "execute_result"
    }
   ],
   "source": [
    "np.unique(a1)"
   ]
  },
  {
   "cell_type": "code",
   "execution_count": 8,
   "id": "f5b2bef1",
   "metadata": {},
   "outputs": [
    {
     "data": {
      "text/plain": [
       "array([1, 6, 1])"
      ]
     },
     "execution_count": 8,
     "metadata": {},
     "output_type": "execute_result"
    }
   ],
   "source": [
    "a1[1]"
   ]
  },
  {
   "cell_type": "code",
   "execution_count": 10,
   "id": "3eac46bb",
   "metadata": {},
   "outputs": [
    {
     "data": {
      "text/plain": [
       "array([[1, 2, 3],\n",
       "       [4, 5, 6]])"
      ]
     },
     "execution_count": 10,
     "metadata": {},
     "output_type": "execute_result"
    }
   ],
   "source": [
    "a2 = np.array([[1,2,3],\n",
    "              [4,5,6]])\n",
    "a2"
   ]
  },
  {
   "cell_type": "code",
   "execution_count": 11,
   "id": "91e67ac0",
   "metadata": {},
   "outputs": [
    {
     "data": {
      "text/plain": [
       "array([1, 2, 3])"
      ]
     },
     "execution_count": 11,
     "metadata": {},
     "output_type": "execute_result"
    }
   ],
   "source": [
    "a2[0]"
   ]
  },
  {
   "cell_type": "code",
   "execution_count": 12,
   "id": "3046be42",
   "metadata": {},
   "outputs": [
    {
     "data": {
      "text/plain": [
       "6"
      ]
     },
     "execution_count": 12,
     "metadata": {},
     "output_type": "execute_result"
    }
   ],
   "source": [
    "a3 = np.array([1,2,5,6,4])\n",
    "a3[3]"
   ]
  },
  {
   "cell_type": "code",
   "execution_count": 13,
   "id": "10ec21a4",
   "metadata": {},
   "outputs": [
    {
     "data": {
      "text/plain": [
       "array([[1, 2],\n",
       "       [4, 5]])"
      ]
     },
     "execution_count": 13,
     "metadata": {},
     "output_type": "execute_result"
    }
   ],
   "source": [
    "a2[:2,:2]"
   ]
  },
  {
   "cell_type": "code",
   "execution_count": 19,
   "id": "0c748d6c",
   "metadata": {},
   "outputs": [
    {
     "data": {
      "text/plain": [
       "array([[[1, 2],\n",
       "        [4, 5]],\n",
       "\n",
       "       [[7, 1],\n",
       "        [4, 5]],\n",
       "\n",
       "       [[7, 8],\n",
       "        [3, 3]]])"
      ]
     },
     "execution_count": 19,
     "metadata": {},
     "output_type": "execute_result"
    }
   ],
   "source": [
    "a4 = np.array([[[1,2,3],\n",
    "              [4,5,6]],\n",
    "              [[7,1,2],\n",
    "              [4,5,1]],\n",
    "              [[7,8,2],\n",
    "              [3,3,1]]]) \n",
    "a4[:3,:2,:2]"
   ]
  },
  {
   "cell_type": "code",
   "execution_count": 20,
   "id": "16a3128e",
   "metadata": {},
   "outputs": [
    {
     "data": {
      "text/plain": [
       "(3, 2, 3)"
      ]
     },
     "execution_count": 20,
     "metadata": {},
     "output_type": "execute_result"
    }
   ],
   "source": [
    "a4.shape"
   ]
  },
  {
   "cell_type": "code",
   "execution_count": 22,
   "id": "58e441e0",
   "metadata": {},
   "outputs": [
    {
     "data": {
      "text/plain": [
       "array([[[19,  7,  4,  2,  5],\n",
       "        [ 4,  4, 13, 16,  7],\n",
       "        [11,  1,  7,  4,  8],\n",
       "        [15,  2, 18, 10,  4]],\n",
       "\n",
       "       [[11,  7,  8, 13,  1],\n",
       "        [14,  4, 19,  0, 15],\n",
       "        [ 6,  9,  9,  7,  8],\n",
       "        [17,  8,  1, 18, 13]]])"
      ]
     },
     "execution_count": 22,
     "metadata": {},
     "output_type": "execute_result"
    }
   ],
   "source": [
    "arr_random = np.random.randint(0, 20, size=(2, 4, 5))\n",
    "arr_random"
   ]
  },
  {
   "cell_type": "code",
   "execution_count": 23,
   "id": "a9986f7a",
   "metadata": {},
   "outputs": [
    {
     "data": {
      "text/plain": [
       "(2, 4, 5)"
      ]
     },
     "execution_count": 23,
     "metadata": {},
     "output_type": "execute_result"
    }
   ],
   "source": [
    "arr_random.shape"
   ]
  },
  {
   "cell_type": "code",
   "execution_count": 25,
   "id": "fc9018c0",
   "metadata": {},
   "outputs": [
    {
     "data": {
      "text/plain": [
       "array([[[19,  7,  4],\n",
       "        [ 4,  4, 13]],\n",
       "\n",
       "       [[11,  7,  8],\n",
       "        [14,  4, 19]]])"
      ]
     },
     "execution_count": 25,
     "metadata": {},
     "output_type": "execute_result"
    }
   ],
   "source": [
    "arr_random[:2, :2, :3]"
   ]
  },
  {
   "cell_type": "code",
   "execution_count": null,
   "id": "a4dc358b",
   "metadata": {},
   "outputs": [],
   "source": []
  }
 ],
 "metadata": {
  "kernelspec": {
   "display_name": "Python 3 (ipykernel)",
   "language": "python",
   "name": "python3"
  },
  "language_info": {
   "codemirror_mode": {
    "name": "ipython",
    "version": 3
   },
   "file_extension": ".py",
   "mimetype": "text/x-python",
   "name": "python",
   "nbconvert_exporter": "python",
   "pygments_lexer": "ipython3",
   "version": "3.9.12"
  }
 },
 "nbformat": 4,
 "nbformat_minor": 5
}
